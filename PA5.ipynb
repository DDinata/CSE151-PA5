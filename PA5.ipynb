{
 "cells": [
  {
   "cell_type": "code",
   "execution_count": 28,
   "metadata": {
    "collapsed": true
   },
   "outputs": [],
   "source": [
    "import numpy \n",
    "import operator\n",
    "from collections import defaultdict"
   ]
  },
  {
   "cell_type": "code",
   "execution_count": 30,
   "metadata": {
    "collapsed": true
   },
   "outputs": [],
   "source": [
    "train = numpy.loadtxt(\"pa5train.txt\")\n",
    "test = numpy.loadtxt(\"pa5test.txt\")\n",
    "feature_len= len(train[0])-1"
   ]
  },
  {
   "cell_type": "code",
   "execution_count": 60,
   "metadata": {},
   "outputs": [],
   "source": [
    "def best_classifier(weights):\n",
    "    class_cor = defaultdict(float)\n",
    "\n",
    "    for i, v in enumerate(train):\n",
    "        for h in range(feature_len):\n",
    "            if v[h] == 1:\n",
    "                if v[feature_len] == 1:\n",
    "                    class_cor[h+1] += weights[i]\n",
    "                else:\n",
    "                    class_cor[-(h+1)] += weights[i]\n",
    "            else:\n",
    "                if v[feature_len] == 1:\n",
    "                    class_cor[-(h+1)] += weights[i]\n",
    "                else:\n",
    "                    class_cor[h+1] += weights[i]\n",
    "    return max(class_cor.items(), key=operator.itemgetter(1))                \n",
    "    "
   ]
  },
  {
   "cell_type": "code",
   "execution_count": 61,
   "metadata": {},
   "outputs": [
    {
     "data": {
      "text/plain": [
       "(-3019, 405.0)"
      ]
     },
     "execution_count": 61,
     "metadata": {},
     "output_type": "execute_result"
    }
   ],
   "source": [
    "def boosting(iters):\n",
    "    "
   ]
  },
  {
   "cell_type": "code",
   "execution_count": 35,
   "metadata": {},
   "outputs": [
    {
     "data": {
      "text/plain": [
       "array([ 0.,  0.,  0., ...,  0.,  0.,  1.])"
      ]
     },
     "execution_count": 35,
     "metadata": {},
     "output_type": "execute_result"
    }
   ],
   "source": []
  },
  {
   "cell_type": "code",
   "execution_count": null,
   "metadata": {
    "collapsed": true
   },
   "outputs": [],
   "source": []
  }
 ],
 "metadata": {
  "kernelspec": {
   "display_name": "Python 3",
   "language": "python",
   "name": "python3"
  },
  "language_info": {
   "codemirror_mode": {
    "name": "ipython",
    "version": 3
   },
   "file_extension": ".py",
   "mimetype": "text/x-python",
   "name": "python",
   "nbconvert_exporter": "python",
   "pygments_lexer": "ipython3",
   "version": "3.6.1"
  }
 },
 "nbformat": 4,
 "nbformat_minor": 2
}
